{
 "metadata": {
  "language_info": {
   "codemirror_mode": {
    "name": "ipython",
    "version": 3
   },
   "file_extension": ".py",
   "mimetype": "text/x-python",
   "name": "python",
   "nbconvert_exporter": "python",
   "pygments_lexer": "ipython3",
   "version": "3.8.3-final"
  },
  "orig_nbformat": 2,
  "kernelspec": {
   "name": "Python 3.8.3 64-bit ('base': conda)",
   "display_name": "Python 3.8.3 64-bit ('base': conda)",
   "metadata": {
    "interpreter": {
     "hash": "b3ba2566441a7c06988d0923437866b63cedc61552a5af99d1f4fb67d367b25f"
    }
   }
  }
 },
 "nbformat": 4,
 "nbformat_minor": 2,
 "cells": [
  {
   "cell_type": "code",
   "execution_count": 2,
   "metadata": {
    "tags": []
   },
   "outputs": [
    {
     "output_type": "stream",
     "name": "stdout",
     "text": "3.7463161945343018\n"
    }
   ],
   "source": [
    "import numba\n",
    "import time\n",
    "\n",
    "char_list='abcdefghijklmnopqrstuvwxyz' # add all the possible characters in the char_list\n",
    "complete=[]\n",
    "\n",
    "startTime=time.time()\n",
    "@numba.jit()\n",
    "def func(complete):\n",
    "    for current in range(5):\n",
    "        a=[i for i in char_list]\n",
    "        for x in range(current):\n",
    "            a=[y+i for i in char_list for y in a]\n",
    "        complete=complete+a\n",
    "\n",
    "func(complete)\n",
    "endTime=(time.time() - startTime)\n",
    "print(endTime)"
   ]
  },
  {
   "cell_type": "code",
   "execution_count": 3,
   "metadata": {
    "tags": []
   },
   "outputs": [
    {
     "output_type": "stream",
     "name": "stdout",
     "text": "1.8929688930511475\n"
    }
   ],
   "source": [
    "startTime=time.time()\n",
    "def func2(complete):\n",
    "    for current in range(5):\n",
    "        a=[i for i in char_list]\n",
    "        for x in range(current):\n",
    "            a=[y+i for i in char_list for y in a]\n",
    "        complete=complete+a\n",
    "\n",
    "func2(complete)\n",
    "endTime=(time.time() - startTime)\n",
    "print(endTime)"
   ]
  }
 ]
}